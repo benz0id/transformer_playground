{
 "cells": [
  {
   "metadata": {},
   "cell_type": "markdown",
   "source": "# Exploring Proteins in the PDB",
   "id": "a1650e0859e58688"
  },
  {
   "metadata": {
    "ExecuteTime": {
     "end_time": "2025-02-06T15:31:37.556189Z",
     "start_time": "2025-02-06T15:31:37.389204Z"
    }
   },
   "cell_type": "code",
   "source": [
    "import pandas as pd\n",
    "from tqdm import tqdm"
   ],
   "id": "7935d9a05cf4c7ff",
   "outputs": [],
   "execution_count": 1
  },
  {
   "metadata": {
    "ExecuteTime": {
     "end_time": "2025-02-06T15:31:37.561199Z",
     "start_time": "2025-02-06T15:31:37.559471Z"
    }
   },
   "cell_type": "code",
   "source": "data_path = '/home/ben/peptide_design/datasets/pdb_2021aug02_sample/list.csv'",
   "id": "f837cd3f653ec201",
   "outputs": [],
   "execution_count": 2
  },
  {
   "metadata": {
    "ExecuteTime": {
     "end_time": "2025-02-06T15:31:37.637497Z",
     "start_time": "2025-02-06T15:31:37.636137Z"
    }
   },
   "cell_type": "code",
   "source": "# df = pd.read_csv(data_path)",
   "id": "1f7b5e58e6e7c167",
   "outputs": [],
   "execution_count": 3
  },
  {
   "metadata": {
    "ExecuteTime": {
     "end_time": "2025-02-06T15:31:38.384999Z",
     "start_time": "2025-02-06T15:31:37.679057Z"
    }
   },
   "cell_type": "code",
   "source": [
    "from components.encoder import encode_protein_sequence\n",
    "\n",
    "one_hot_rep, padding_mask, padding_mask_2d, attention_mask = encode_protein_sequence('AAAAA', 5)"
   ],
   "id": "4fccb499cb5d8bf5",
   "outputs": [],
   "execution_count": 4
  },
  {
   "metadata": {
    "ExecuteTime": {
     "end_time": "2025-02-06T15:31:38.394489Z",
     "start_time": "2025-02-06T15:31:38.391113Z"
    }
   },
   "cell_type": "code",
   "source": "attention_mask",
   "id": "a3d7900ab742fc45",
   "outputs": [
    {
     "data": {
      "text/plain": [
       "tensor([[False,  True,  True,  True,  True],\n",
       "        [False, False,  True,  True,  True],\n",
       "        [False, False, False,  True,  True],\n",
       "        [False, False, False, False,  True],\n",
       "        [False, False, False, False, False]])"
      ]
     },
     "execution_count": 5,
     "metadata": {},
     "output_type": "execute_result"
    }
   ],
   "execution_count": 5
  },
  {
   "metadata": {
    "ExecuteTime": {
     "end_time": "2025-02-06T15:31:38.454442Z",
     "start_time": "2025-02-06T15:31:38.453106Z"
    }
   },
   "cell_type": "code",
   "source": "import torch",
   "id": "2c618fc65216eea2",
   "outputs": [],
   "execution_count": 6
  },
  {
   "metadata": {
    "ExecuteTime": {
     "end_time": "2025-02-06T15:31:38.497020Z",
     "start_time": "2025-02-06T15:31:38.495046Z"
    }
   },
   "cell_type": "code",
   "source": [
    "attention_mask = torch.ones(5, 5)\n",
    "attention_mask = torch.triu(attention_mask, diagonal=1).bool()"
   ],
   "id": "cb26ea3dcce3363b",
   "outputs": [],
   "execution_count": 7
  },
  {
   "metadata": {
    "ExecuteTime": {
     "end_time": "2025-02-06T15:31:38.579964Z",
     "start_time": "2025-02-06T15:31:38.577696Z"
    }
   },
   "cell_type": "code",
   "source": "attention_mask",
   "id": "51332272270de568",
   "outputs": [
    {
     "data": {
      "text/plain": [
       "tensor([[False,  True,  True,  True,  True],\n",
       "        [False, False,  True,  True,  True],\n",
       "        [False, False, False,  True,  True],\n",
       "        [False, False, False, False,  True],\n",
       "        [False, False, False, False, False]])"
      ]
     },
     "execution_count": 8,
     "metadata": {},
     "output_type": "execute_result"
    }
   ],
   "execution_count": 8
  },
  {
   "metadata": {
    "ExecuteTime": {
     "end_time": "2025-02-06T15:32:38.579494Z",
     "start_time": "2025-02-06T15:32:38.577766Z"
    }
   },
   "cell_type": "code",
   "source": "m = torch.rand(3, 5)",
   "id": "174b0dc6498cc296",
   "outputs": [],
   "execution_count": 12
  },
  {
   "metadata": {
    "ExecuteTime": {
     "end_time": "2025-02-06T15:32:38.935517Z",
     "start_time": "2025-02-06T15:32:38.933017Z"
    }
   },
   "cell_type": "code",
   "source": "m",
   "id": "74f9c32d774d932c",
   "outputs": [
    {
     "data": {
      "text/plain": [
       "tensor([[0.4769, 0.3368, 0.5442, 0.5950, 0.5037],\n",
       "        [0.1312, 0.6574, 0.6643, 0.5052, 0.5415],\n",
       "        [0.2247, 0.6777, 0.7025, 0.2458, 0.1125]])"
      ]
     },
     "execution_count": 13,
     "metadata": {},
     "output_type": "execute_result"
    }
   ],
   "execution_count": 13
  },
  {
   "metadata": {
    "ExecuteTime": {
     "end_time": "2025-02-06T15:43:34.764362Z",
     "start_time": "2025-02-06T15:43:34.724851Z"
    }
   },
   "cell_type": "code",
   "source": [
    "torch.softmax_(m, -1)\n",
    "m"
   ],
   "id": "516b6787a3fb048d",
   "outputs": [
    {
     "ename": "AttributeError",
     "evalue": "module 'torch' has no attribute 'softmax_'",
     "output_type": "error",
     "traceback": [
      "\u001B[0;31m---------------------------------------------------------------------------\u001B[0m",
      "\u001B[0;31mAttributeError\u001B[0m                            Traceback (most recent call last)",
      "Cell \u001B[0;32mIn[20], line 1\u001B[0m\n\u001B[0;32m----> 1\u001B[0m \u001B[43mtorch\u001B[49m\u001B[38;5;241;43m.\u001B[39;49m\u001B[43msoftmax_\u001B[49m(m, \u001B[38;5;241m-\u001B[39m\u001B[38;5;241m1\u001B[39m)\n\u001B[1;32m      2\u001B[0m m\n",
      "File \u001B[0;32m~/shared_projects/transformer_playground/.venv/lib/python3.12/site-packages/torch/__init__.py:2681\u001B[0m, in \u001B[0;36m__getattr__\u001B[0;34m(name)\u001B[0m\n\u001B[1;32m   2678\u001B[0m \u001B[38;5;28;01mif\u001B[39;00m name \u001B[38;5;129;01min\u001B[39;00m _lazy_modules:\n\u001B[1;32m   2679\u001B[0m     \u001B[38;5;28;01mreturn\u001B[39;00m importlib\u001B[38;5;241m.\u001B[39mimport_module(\u001B[38;5;124mf\u001B[39m\u001B[38;5;124m\"\u001B[39m\u001B[38;5;124m.\u001B[39m\u001B[38;5;132;01m{\u001B[39;00mname\u001B[38;5;132;01m}\u001B[39;00m\u001B[38;5;124m\"\u001B[39m, \u001B[38;5;18m__name__\u001B[39m)\n\u001B[0;32m-> 2681\u001B[0m \u001B[38;5;28;01mraise\u001B[39;00m \u001B[38;5;167;01mAttributeError\u001B[39;00m(\u001B[38;5;124mf\u001B[39m\u001B[38;5;124m\"\u001B[39m\u001B[38;5;124mmodule \u001B[39m\u001B[38;5;124m'\u001B[39m\u001B[38;5;132;01m{\u001B[39;00m\u001B[38;5;18m__name__\u001B[39m\u001B[38;5;132;01m}\u001B[39;00m\u001B[38;5;124m'\u001B[39m\u001B[38;5;124m has no attribute \u001B[39m\u001B[38;5;124m'\u001B[39m\u001B[38;5;132;01m{\u001B[39;00mname\u001B[38;5;132;01m}\u001B[39;00m\u001B[38;5;124m'\u001B[39m\u001B[38;5;124m\"\u001B[39m)\n",
      "\u001B[0;31mAttributeError\u001B[0m: module 'torch' has no attribute 'softmax_'"
     ]
    }
   ],
   "execution_count": 20
  },
  {
   "metadata": {
    "ExecuteTime": {
     "end_time": "2025-02-06T15:33:06.852994Z",
     "start_time": "2025-02-06T15:33:06.850393Z"
    }
   },
   "cell_type": "code",
   "source": "s",
   "id": "3e9cc75ce5cdb71e",
   "outputs": [
    {
     "data": {
      "text/plain": [
       "tensor([[0.1964, 0.1707, 0.2101, 0.2210, 0.2017],\n",
       "        [0.1359, 0.2300, 0.2316, 0.1976, 0.2049],\n",
       "        [0.1639, 0.2578, 0.2643, 0.1674, 0.1465]])"
      ]
     },
     "execution_count": 17,
     "metadata": {},
     "output_type": "execute_result"
    }
   ],
   "execution_count": 17
  },
  {
   "metadata": {
    "ExecuteTime": {
     "end_time": "2025-02-06T15:33:25.415301Z",
     "start_time": "2025-02-06T15:33:25.412718Z"
    }
   },
   "cell_type": "code",
   "source": "s.sum(0)",
   "id": "794ea767e3b7702a",
   "outputs": [
    {
     "data": {
      "text/plain": [
       "tensor([0.4962, 0.6586, 0.7060, 0.5860, 0.5531])"
      ]
     },
     "execution_count": 18,
     "metadata": {},
     "output_type": "execute_result"
    }
   ],
   "execution_count": 18
  },
  {
   "metadata": {
    "ExecuteTime": {
     "end_time": "2025-02-06T15:55:42.494550Z",
     "start_time": "2025-02-06T15:55:42.492880Z"
    }
   },
   "cell_type": "code",
   "source": "org = torch.arange(4 * 9).reshape(4, 9)",
   "id": "67cb035f9ab92807",
   "outputs": [],
   "execution_count": 28
  },
  {
   "metadata": {
    "ExecuteTime": {
     "end_time": "2025-02-06T15:55:42.761438Z",
     "start_time": "2025-02-06T15:55:42.758985Z"
    }
   },
   "cell_type": "code",
   "source": "org",
   "id": "c42d5b989e8fb468",
   "outputs": [
    {
     "data": {
      "text/plain": [
       "tensor([[ 0,  1,  2,  3,  4,  5,  6,  7,  8],\n",
       "        [ 9, 10, 11, 12, 13, 14, 15, 16, 17],\n",
       "        [18, 19, 20, 21, 22, 23, 24, 25, 26],\n",
       "        [27, 28, 29, 30, 31, 32, 33, 34, 35]])"
      ]
     },
     "execution_count": 29,
     "metadata": {},
     "output_type": "execute_result"
    }
   ],
   "execution_count": 29
  },
  {
   "metadata": {
    "ExecuteTime": {
     "end_time": "2025-02-06T15:55:56.535615Z",
     "start_time": "2025-02-06T15:55:56.533131Z"
    }
   },
   "cell_type": "code",
   "source": "org.reshape(3, 4, 3)",
   "id": "dc102cb7e2ff0a7f",
   "outputs": [
    {
     "data": {
      "text/plain": [
       "tensor([[[ 0,  1,  2],\n",
       "         [ 3,  4,  5],\n",
       "         [ 6,  7,  8],\n",
       "         [ 9, 10, 11]],\n",
       "\n",
       "        [[12, 13, 14],\n",
       "         [15, 16, 17],\n",
       "         [18, 19, 20],\n",
       "         [21, 22, 23]],\n",
       "\n",
       "        [[24, 25, 26],\n",
       "         [27, 28, 29],\n",
       "         [30, 31, 32],\n",
       "         [33, 34, 35]]])"
      ]
     },
     "execution_count": 30,
     "metadata": {},
     "output_type": "execute_result"
    }
   ],
   "execution_count": 30
  },
  {
   "metadata": {
    "ExecuteTime": {
     "end_time": "2025-02-06T16:58:51.647593Z",
     "start_time": "2025-02-06T16:58:51.640597Z"
    }
   },
   "cell_type": "code",
   "source": "org.shape()",
   "id": "29f2639f3a08912e",
   "outputs": [
    {
     "ename": "TypeError",
     "evalue": "'torch.Size' object is not callable",
     "output_type": "error",
     "traceback": [
      "\u001B[0;31m---------------------------------------------------------------------------\u001B[0m",
      "\u001B[0;31mTypeError\u001B[0m                                 Traceback (most recent call last)",
      "Cell \u001B[0;32mIn[31], line 1\u001B[0m\n\u001B[0;32m----> 1\u001B[0m \u001B[43morg\u001B[49m\u001B[38;5;241;43m.\u001B[39;49m\u001B[43mshape\u001B[49m\u001B[43m(\u001B[49m\u001B[43m)\u001B[49m\n",
      "\u001B[0;31mTypeError\u001B[0m: 'torch.Size' object is not callable"
     ]
    }
   ],
   "execution_count": 31
  },
  {
   "metadata": {},
   "cell_type": "code",
   "outputs": [],
   "execution_count": null,
   "source": "",
   "id": "8a2d4c049e983bae"
  }
 ],
 "metadata": {
  "kernelspec": {
   "display_name": "Python 3",
   "language": "python",
   "name": "python3"
  },
  "language_info": {
   "codemirror_mode": {
    "name": "ipython",
    "version": 2
   },
   "file_extension": ".py",
   "mimetype": "text/x-python",
   "name": "python",
   "nbconvert_exporter": "python",
   "pygments_lexer": "ipython2",
   "version": "2.7.6"
  }
 },
 "nbformat": 4,
 "nbformat_minor": 5
}
